{
 "cells": [
  {
   "cell_type": "code",
   "execution_count": 1,
   "metadata": {},
   "outputs": [
    {
     "name": "stderr",
     "output_type": "stream",
     "text": [
      "Using TensorFlow backend.\n"
     ]
    }
   ],
   "source": [
    "from mirapy.data.load_dataset import load_atlas_star_data\n",
    "from mirapy.classifiers.models import AtlasVarStarClassifier\n",
    "import mirapy\n",
    "\n",
    "import os\n",
    "from os import walk\n",
    "import pandas as pd\n",
    "from sklearn.metrics import classification_report, accuracy_score\n",
    "from sklearn.model_selection import train_test_split\n",
    "from keras.optimizers import Adam\n",
    "from sklearn.preprocessing import LabelEncoder, OneHotEncoder\n",
    "from sklearn.preprocessing import StandardScaler"
   ]
  },
  {
   "cell_type": "code",
   "execution_count": 2,
   "metadata": {},
   "outputs": [],
   "source": [
    "path = 'D:\\MTP\\ATLAS\\dataset'\n",
    "csv_file = os.path.join(path, \"non_dub.csv\")"
   ]
  },
  {
   "cell_type": "markdown",
   "metadata": {},
   "source": [
    "Ignore feature list to use features selected using feature selection\n",
    "\n",
    "Numpy array `y` is the respective class labels.\n",
    "\n",
    "`BH` Black Hole\n",
    "`P` Pulsar\n",
    "`NP` Non-pulsar"
   ]
  },
  {
   "cell_type": "code",
   "execution_count": 3,
   "metadata": {},
   "outputs": [],
   "source": [
    "x, y = load_atlas_star_data(csv_file, 0.2)"
   ]
  },
  {
   "cell_type": "code",
   "execution_count": 7,
   "metadata": {},
   "outputs": [
    {
     "name": "stderr",
     "output_type": "stream",
     "text": [
      "C:\\Users\\Admin\\Anaconda3\\envs\\gpu\\lib\\site-packages\\sklearn\\preprocessing\\_encoders.py:363: FutureWarning: The handling of integer data will change in version 0.22. Currently, the categories are determined based on the range [0, max(values)], while in the future they will be determined based on the unique values.\n",
      "If you want the future behaviour and silence this warning, you can specify \"categories='auto'\".\n",
      "In case you used a LabelEncoder before this OneHotEncoder to convert the categories to integers, then you can now use the OneHotEncoder directly.\n",
      "  warnings.warn(msg, FutureWarning)\n"
     ]
    }
   ],
   "source": [
    "x_train, x_test, y_train, y_test = train_test_split(x, y, test_size=0.2, random_state=42)\n",
    "\n",
    "label_encoder = LabelEncoder()\n",
    "integer_encoded = label_encoder.fit_transform(y_train)\n",
    "\n",
    "onehot_encoder = OneHotEncoder(sparse=False)\n",
    "integer_encoded = integer_encoded.reshape(len(integer_encoded), 1)\n",
    "onehot_encoded = onehot_encoder.fit_transform(integer_encoded)\n",
    "y_train = onehot_encoded"
   ]
  },
  {
   "cell_type": "code",
   "execution_count": 8,
   "metadata": {},
   "outputs": [],
   "source": [
    "classifier = AtlasVarStarClassifier('relu', input_size=x_train[0].shape[0], num_classes=y_train[0].shape[0])\n",
    "classifier.compile(optimizer='adam', loss='mean_squared_error')"
   ]
  },
  {
   "cell_type": "code",
   "execution_count": 10,
   "metadata": {},
   "outputs": [
    {
     "name": "stdout",
     "output_type": "stream",
     "text": [
      "Epoch 1/10\n",
      " - 6s - loss: 0.0238 - acc: 0.8593\n",
      "Epoch 2/10\n",
      " - 3s - loss: 0.0118 - acc: 0.9318\n",
      "Epoch 3/10\n",
      " - 3s - loss: 0.0095 - acc: 0.9436\n",
      "Epoch 4/10\n",
      " - 3s - loss: 0.0087 - acc: 0.9482\n",
      "Epoch 5/10\n",
      " - 3s - loss: 0.0083 - acc: 0.9502\n",
      "Epoch 6/10\n",
      " - 3s - loss: 0.0081 - acc: 0.9518\n",
      "Epoch 7/10\n",
      " - 3s - loss: 0.0079 - acc: 0.9527\n",
      "Epoch 8/10\n",
      " - 3s - loss: 0.0077 - acc: 0.9543\n",
      "Epoch 9/10\n",
      " - 3s - loss: 0.0076 - acc: 0.9549\n",
      "Epoch 10/10\n",
      " - 3s - loss: 0.0074 - acc: 0.9558\n"
     ]
    }
   ],
   "source": [
    "classifier.train(x_train, y_train, epochs=10,\n",
    "                       batch_size=100, verbose=2)"
   ]
  },
  {
   "cell_type": "markdown",
   "metadata": {},
   "source": [
    "convert string classes to integer encoded"
   ]
  },
  {
   "cell_type": "code",
   "execution_count": 8,
   "metadata": {},
   "outputs": [
    {
     "name": "stdout",
     "output_type": "stream",
     "text": [
      "              precision    recall  f1-score   support\n",
      "\n",
      "           0       0.95      0.95      0.95      3373\n",
      "           1       0.97      0.98      0.97      2977\n",
      "           2       0.84      0.87      0.85       840\n",
      "           3       0.94      0.91      0.93      1406\n",
      "           4       0.98      0.99      0.99       439\n",
      "           5       0.86      0.80      0.83       396\n",
      "           6       0.94      0.97      0.96      2655\n",
      "           7       0.98      0.97      0.98      1839\n",
      "           8       1.00      0.98      0.99      2472\n",
      "\n",
      "   micro avg       0.95      0.95      0.95     16397\n",
      "   macro avg       0.94      0.94      0.94     16397\n",
      "weighted avg       0.95      0.95      0.95     16397\n",
      "\n",
      "Accuracy: 95.45 %\n"
     ]
    }
   ],
   "source": [
    "label_encoder = LabelEncoder()\n",
    "integer_encoded = label_encoder.fit_transform(y_test)\n",
    "y_test = integer_encoded\n",
    "\n",
    "y_predicted = classifier.test(x_test)\n",
    "print(classification_report(y_test, y_predicted))\n",
    "print(\"Accuracy:\", round(accuracy_score(y_test, y_predicted)*100, 2), \"%\")"
   ]
  }
 ],
 "metadata": {
  "kernelspec": {
   "display_name": "Python 3",
   "language": "python",
   "name": "python3"
  },
  "language_info": {
   "codemirror_mode": {
    "name": "ipython",
    "version": 3
   },
   "file_extension": ".py",
   "mimetype": "text/x-python",
   "name": "python",
   "nbconvert_exporter": "python",
   "pygments_lexer": "ipython3",
   "version": "3.5.6"
  }
 },
 "nbformat": 4,
 "nbformat_minor": 2
}
