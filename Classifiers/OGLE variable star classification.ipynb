{
 "cells": [
  {
   "cell_type": "code",
   "execution_count": 9,
   "metadata": {},
   "outputs": [],
   "source": [
    "from mirapy.data.load_dataset import load_ogle_dataset\n",
    "from mirapy.classifiers.models import OGLEClassifier\n",
    "from keras.utils.np_utils import to_categorical\n",
    "import mirapy\n",
    "\n",
    "from sklearn.metrics import classification_report, accuracy_score\n",
    "from sklearn.model_selection import train_test_split\n",
    "from keras.optimizers import Adam\n",
    "from sklearn.preprocessing import LabelEncoder, OneHotEncoder"
   ]
  },
  {
   "cell_type": "code",
   "execution_count": 2,
   "metadata": {},
   "outputs": [],
   "source": [
    "path = 'D:\\MTP\\ogle'"
   ]
  },
  {
   "cell_type": "markdown",
   "metadata": {},
   "source": [
    "50 is the optimal length to minimize class inequality\n",
    "\n",
    "Numpy array `y` is the respective class labels."
   ]
  },
  {
   "cell_type": "code",
   "execution_count": 3,
   "metadata": {},
   "outputs": [],
   "source": [
    "x, y = load_ogle_dataset(path, classes = [\"cep\" , \"dsct\" ,\"lpv (empty)\", \"rrlyr\" ,\"t2cep\"])"
   ]
  },
  {
   "cell_type": "code",
   "execution_count": 10,
   "metadata": {},
   "outputs": [
    {
     "name": "stderr",
     "output_type": "stream",
     "text": [
      "C:\\Users\\Admin\\Anaconda3\\envs\\gpu\\lib\\site-packages\\sklearn\\preprocessing\\_encoders.py:363: FutureWarning: The handling of integer data will change in version 0.22. Currently, the categories are determined based on the range [0, max(values)], while in the future they will be determined based on the unique values.\n",
      "If you want the future behaviour and silence this warning, you can specify \"categories='auto'\".\n",
      "In case you used a LabelEncoder before this OneHotEncoder to convert the categories to integers, then you can now use the OneHotEncoder directly.\n",
      "  warnings.warn(msg, FutureWarning)\n"
     ]
    }
   ],
   "source": [
    "x_train, x_test, y_train, y_test = train_test_split(x, y, test_size=0.2, random_state=42)\n",
    "\n",
    "label_encoder = LabelEncoder()\n",
    "integer_encoded = label_encoder.fit_transform(y_train)\n",
    "\n",
    "onehot_encoder = OneHotEncoder(sparse=False)\n",
    "integer_encoded = integer_encoded.reshape(len(integer_encoded), 1)\n",
    "onehot_encoded = onehot_encoder.fit_transform(integer_encoded)\n",
    "y_train = onehot_encoded"
   ]
  },
  {
   "cell_type": "code",
   "execution_count": 5,
   "metadata": {},
   "outputs": [],
   "source": [
    "classifier = OGLEClassifier('relu', input_size=50, num_classes=5)\n",
    "classifier.compile(optimizer='adam', loss=\"categorical_crossentropy\")"
   ]
  },
  {
   "cell_type": "code",
   "execution_count": null,
   "metadata": {},
   "outputs": [
    {
     "name": "stdout",
     "output_type": "stream",
     "text": [
      "Epoch 1/10\n",
      " - 103s - loss: 0.5112 - acc: 0.8354\n",
      "Epoch 2/10\n",
      " - 100s - loss: 0.4120 - acc: 0.8618\n",
      "Epoch 3/10\n",
      " - 103s - loss: 0.4055 - acc: 0.8622\n",
      "Epoch 4/10\n",
      " - 103s - loss: 0.4015 - acc: 0.8627\n",
      "Epoch 5/10\n",
      " - 103s - loss: 0.3966 - acc: 0.8634\n",
      "Epoch 6/10\n",
      " - 109s - loss: 0.3979 - acc: 0.8631\n",
      "Epoch 7/10\n",
      " - 99s - loss: 0.3948 - acc: 0.8647\n",
      "Epoch 8/10\n"
     ]
    }
   ],
   "source": [
    "classifier.train(x_train, y_train,\n",
    "                epochs=10,\n",
    "                batch_size=40,\n",
    "                verbose=2)"
   ]
  }
 ],
 "metadata": {
  "kernelspec": {
   "display_name": "Python 3",
   "language": "python",
   "name": "python3"
  },
  "language_info": {
   "codemirror_mode": {
    "name": "ipython",
    "version": 3
   },
   "file_extension": ".py",
   "mimetype": "text/x-python",
   "name": "python",
   "nbconvert_exporter": "python",
   "pygments_lexer": "ipython3",
   "version": "3.5.6"
  }
 },
 "nbformat": 4,
 "nbformat_minor": 2
}
