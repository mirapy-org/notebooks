{
 "cells": [
  {
   "cell_type": "markdown",
   "metadata": {},
   "source": [
    "# XRay Binary Classification"
   ]
  },
  {
   "cell_type": "code",
   "execution_count": 14,
   "metadata": {},
   "outputs": [],
   "source": [
    "from mirapy.data.load_dataset import load_xray_binary_data\n",
    "from mirapy.classifiers.models import XRayBinaryClassifier\n",
    "import mirapy\n",
    "\n",
    "from sklearn.metrics import classification_report, accuracy_score\n",
    "from sklearn.model_selection import train_test_split\n",
    "from keras.optimizers import Adam\n",
    "from keras.utils.np_utils import to_categorical\n",
    "from sklearn.preprocessing import LabelEncoder, OneHotEncoder"
   ]
  },
  {
   "cell_type": "markdown",
   "metadata": {},
   "source": [
    "Numpy array `y` is the respective class labels.\n",
    "\n",
    "`BH` Black Hole\n",
    "`P` Pulsar\n",
    "`NP` Non-pulsar"
   ]
  },
  {
   "cell_type": "code",
   "execution_count": 16,
   "metadata": {},
   "outputs": [
    {
     "name": "stderr",
     "output_type": "stream",
     "text": [
      "d:\\mtp\\mirapy_0\\mirapy\\mirapy\\data\\load_dataset.py:71: FutureWarning: convert_objects is deprecated.  To re-infer data dtypes for object columns, use DataFrame.infer_objects()\n",
      "For all other conversions use the data-type specific converters pd.to_datetime, pd.to_timedelta and pd.to_numeric.\n",
      "  rawdf = rawdf.convert_objects(convert_numeric=True)\n"
     ]
    }
   ],
   "source": [
    "data_dir = 'D:\\MTP\\XRay-Binary-Classification\\XRay-Binary-Classification\\Training'\n",
    "x, y = load_xray_binary_data(data_dir, True)\n",
    "\n",
    "label_encoder = LabelEncoder()\n",
    "integer_encoded = label_encoder.fit_transform(y)\n",
    "y = integer_encoded\n",
    "\n",
    "x_train, x_test, y_train, y_test = train_test_split(x, y, test_size=0.2, random_state=42)\n",
    "\n",
    "y_train = to_categorical(y_train)"
   ]
  },
  {
   "cell_type": "code",
   "execution_count": 19,
   "metadata": {},
   "outputs": [],
   "source": [
    "classifier = XRayBinaryClassifier('relu')\n",
    "classifier.compile(optimizer=Adam(lr=0.0001, decay=1e-6), loss='mean_squared_error')"
   ]
  },
  {
   "cell_type": "code",
   "execution_count": 20,
   "metadata": {},
   "outputs": [
    {
     "name": "stdout",
     "output_type": "stream",
     "text": [
      "Epoch 1/10\n",
      " - 35s - loss: 0.1778 - acc: 0.6895\n",
      "Epoch 2/10\n",
      " - 10s - loss: 0.0604 - acc: 0.9104\n",
      "Epoch 3/10\n",
      " - 13s - loss: 0.0308 - acc: 0.9507\n",
      "Epoch 4/10\n",
      " - 9s - loss: 0.0239 - acc: 0.9589\n",
      "Epoch 5/10\n",
      " - 9s - loss: 0.0216 - acc: 0.9611\n",
      "Epoch 6/10\n",
      " - 8s - loss: 0.0204 - acc: 0.9632\n",
      "Epoch 7/10\n",
      " - 9s - loss: 0.0197 - acc: 0.9644\n",
      "Epoch 8/10\n",
      " - 9s - loss: 0.0191 - acc: 0.9659\n",
      "Epoch 9/10\n",
      " - 9s - loss: 0.0187 - acc: 0.9658\n",
      "Epoch 10/10\n",
      " - 9s - loss: 0.0184 - acc: 0.9666\n"
     ]
    }
   ],
   "source": [
    "classifier.train(x_train, y_train, epochs=10,\n",
    "                       batch_size=32, verbose=2)"
   ]
  },
  {
   "cell_type": "code",
   "execution_count": 22,
   "metadata": {},
   "outputs": [
    {
     "name": "stdout",
     "output_type": "stream",
     "text": [
      "              precision    recall  f1-score   support\n",
      "\n",
      "           0       0.96      0.95      0.96      2637\n",
      "           1       0.97      0.98      0.98      5056\n",
      "           2       0.95      0.84      0.89       484\n",
      "\n",
      "   micro avg       0.97      0.97      0.97      8177\n",
      "   macro avg       0.96      0.93      0.94      8177\n",
      "weighted avg       0.96      0.97      0.96      8177\n",
      "\n",
      "Accuracy: 96.5 %\n"
     ]
    }
   ],
   "source": [
    "y_predicted = classifier.predict(x_test)\n",
    "print(classification_report(y_test, y_predicted))\n",
    "print(\"Accuracy:\", round(accuracy_score(y_test, y_predicted)*100, 2), \"%\")"
   ]
  }
 ],
 "metadata": {
  "kernelspec": {
   "display_name": "Python 3",
   "language": "python",
   "name": "python3"
  },
  "language_info": {
   "codemirror_mode": {
    "name": "ipython",
    "version": 3
   },
   "file_extension": ".py",
   "mimetype": "text/x-python",
   "name": "python",
   "nbconvert_exporter": "python",
   "pygments_lexer": "ipython3",
   "version": "3.5.6"
  }
 },
 "nbformat": 4,
 "nbformat_minor": 2
}
